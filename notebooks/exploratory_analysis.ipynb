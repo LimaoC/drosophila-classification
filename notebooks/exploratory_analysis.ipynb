{
 "cells": [
  {
   "cell_type": "code",
   "execution_count": 1,
   "id": "25b4b6ac-cd2f-4ed1-a8b4-a0e80f9639da",
   "metadata": {},
   "outputs": [],
   "source": [
    "import matplotlib.pyplot as plt\n",
    "import numpy as np\n",
    "import pandas as pd"
   ]
  },
  {
   "cell_type": "markdown",
   "id": "2c2403b5-6707-4323-bc02-f10e319b5616",
   "metadata": {},
   "source": [
    "# Exploring Dataset Columns\n",
    "\n",
    "For the purposes of this analysis and report, we will focus on the thorax & wing traits dataset. We begin by exploring the dataset columns. The majority of columns are related to wing and thorax measurements - so we should expect them to be numerical. Some columns (temperature, vial, replicate) are related to the experimental setup of the study - i.e. the conditions under which the measurements were taken. These may or may not be relevant predictors.\n",
    "\n",
    "We see that there are 2 species of Drosophila, and that they were taken from 5 population locations. A relevant objective could be to predict the species of Drosophila based on its wing and thorax measurements (and perhaps the experimental predictors) - this could provide some insight into the trait differences between the two species, which may be useful for further research into the flies."
   ]
  },
  {
   "cell_type": "code",
   "execution_count": 2,
   "id": "8ccefc0f-bfa0-41fc-b2c6-157452c4fa00",
   "metadata": {},
   "outputs": [
    {
     "data": {
      "text/html": [
       "<div>\n",
       "<style scoped>\n",
       "    .dataframe tbody tr th:only-of-type {\n",
       "        vertical-align: middle;\n",
       "    }\n",
       "\n",
       "    .dataframe tbody tr th {\n",
       "        vertical-align: top;\n",
       "    }\n",
       "\n",
       "    .dataframe thead th {\n",
       "        text-align: right;\n",
       "    }\n",
       "</style>\n",
       "<table border=\"1\" class=\"dataframe\">\n",
       "  <thead>\n",
       "    <tr style=\"text-align: right;\">\n",
       "      <th></th>\n",
       "      <th>Species</th>\n",
       "      <th>Population</th>\n",
       "      <th>Latitude</th>\n",
       "      <th>Longitude</th>\n",
       "      <th>Year_start</th>\n",
       "      <th>Year_end</th>\n",
       "      <th>Temperature</th>\n",
       "      <th>Vial</th>\n",
       "      <th>Replicate</th>\n",
       "      <th>Sex</th>\n",
       "      <th>Thorax_length</th>\n",
       "      <th>l2</th>\n",
       "      <th>l3p</th>\n",
       "      <th>l3d</th>\n",
       "      <th>lpd</th>\n",
       "      <th>l3</th>\n",
       "      <th>w1</th>\n",
       "      <th>w2</th>\n",
       "      <th>w3</th>\n",
       "      <th>wing_loading</th>\n",
       "    </tr>\n",
       "  </thead>\n",
       "  <tbody>\n",
       "    <tr>\n",
       "      <th>0</th>\n",
       "      <td>D._aldrichi</td>\n",
       "      <td>Binjour</td>\n",
       "      <td>-25.52</td>\n",
       "      <td>151.45</td>\n",
       "      <td>1994</td>\n",
       "      <td>1994</td>\n",
       "      <td>20</td>\n",
       "      <td>1</td>\n",
       "      <td>1</td>\n",
       "      <td>female</td>\n",
       "      <td>1.238</td>\n",
       "      <td>2.017</td>\n",
       "      <td>0.659</td>\n",
       "      <td>1.711</td>\n",
       "      <td>2.370</td>\n",
       "      <td>2.370</td>\n",
       "      <td>1.032</td>\n",
       "      <td>1.441</td>\n",
       "      <td>1.192</td>\n",
       "      <td>1.914</td>\n",
       "    </tr>\n",
       "    <tr>\n",
       "      <th>1</th>\n",
       "      <td>D._aldrichi</td>\n",
       "      <td>Binjour</td>\n",
       "      <td>-25.52</td>\n",
       "      <td>151.45</td>\n",
       "      <td>1994</td>\n",
       "      <td>1994</td>\n",
       "      <td>20</td>\n",
       "      <td>1</td>\n",
       "      <td>1</td>\n",
       "      <td>male</td>\n",
       "      <td>1.113</td>\n",
       "      <td>1.811</td>\n",
       "      <td>0.609</td>\n",
       "      <td>1.539</td>\n",
       "      <td>2.148</td>\n",
       "      <td>2.146</td>\n",
       "      <td>0.938</td>\n",
       "      <td>1.299</td>\n",
       "      <td>1.066</td>\n",
       "      <td>1.928</td>\n",
       "    </tr>\n",
       "    <tr>\n",
       "      <th>2</th>\n",
       "      <td>D._aldrichi</td>\n",
       "      <td>Binjour</td>\n",
       "      <td>-25.52</td>\n",
       "      <td>151.45</td>\n",
       "      <td>1994</td>\n",
       "      <td>1994</td>\n",
       "      <td>20</td>\n",
       "      <td>1</td>\n",
       "      <td>2</td>\n",
       "      <td>female</td>\n",
       "      <td>1.215</td>\n",
       "      <td>1.985</td>\n",
       "      <td>0.648</td>\n",
       "      <td>1.671</td>\n",
       "      <td>2.319</td>\n",
       "      <td>2.319</td>\n",
       "      <td>0.991</td>\n",
       "      <td>1.396</td>\n",
       "      <td>1.142</td>\n",
       "      <td>1.908</td>\n",
       "    </tr>\n",
       "    <tr>\n",
       "      <th>3</th>\n",
       "      <td>D._aldrichi</td>\n",
       "      <td>Binjour</td>\n",
       "      <td>-25.52</td>\n",
       "      <td>151.45</td>\n",
       "      <td>1994</td>\n",
       "      <td>1994</td>\n",
       "      <td>20</td>\n",
       "      <td>1</td>\n",
       "      <td>2</td>\n",
       "      <td>male</td>\n",
       "      <td>1.123</td>\n",
       "      <td>1.713</td>\n",
       "      <td>0.596</td>\n",
       "      <td>1.495</td>\n",
       "      <td>2.091</td>\n",
       "      <td>2.088</td>\n",
       "      <td>0.958</td>\n",
       "      <td>1.286</td>\n",
       "      <td>1.062</td>\n",
       "      <td>1.860</td>\n",
       "    </tr>\n",
       "    <tr>\n",
       "      <th>4</th>\n",
       "      <td>D._aldrichi</td>\n",
       "      <td>Binjour</td>\n",
       "      <td>-25.52</td>\n",
       "      <td>151.45</td>\n",
       "      <td>1994</td>\n",
       "      <td>1994</td>\n",
       "      <td>20</td>\n",
       "      <td>2</td>\n",
       "      <td>1</td>\n",
       "      <td>female</td>\n",
       "      <td>1.218</td>\n",
       "      <td>1.938</td>\n",
       "      <td>0.641</td>\n",
       "      <td>1.658</td>\n",
       "      <td>2.298</td>\n",
       "      <td>2.298</td>\n",
       "      <td>1.010</td>\n",
       "      <td>1.418</td>\n",
       "      <td>1.148</td>\n",
       "      <td>1.886</td>\n",
       "    </tr>\n",
       "    <tr>\n",
       "      <th>...</th>\n",
       "      <td>...</td>\n",
       "      <td>...</td>\n",
       "      <td>...</td>\n",
       "      <td>...</td>\n",
       "      <td>...</td>\n",
       "      <td>...</td>\n",
       "      <td>...</td>\n",
       "      <td>...</td>\n",
       "      <td>...</td>\n",
       "      <td>...</td>\n",
       "      <td>...</td>\n",
       "      <td>...</td>\n",
       "      <td>...</td>\n",
       "      <td>...</td>\n",
       "      <td>...</td>\n",
       "      <td>...</td>\n",
       "      <td>...</td>\n",
       "      <td>...</td>\n",
       "      <td>...</td>\n",
       "      <td>...</td>\n",
       "    </tr>\n",
       "    <tr>\n",
       "      <th>1726</th>\n",
       "      <td>D._buzzatii</td>\n",
       "      <td>Wahruna</td>\n",
       "      <td>-25.20</td>\n",
       "      <td>151.17</td>\n",
       "      <td>1994</td>\n",
       "      <td>1994</td>\n",
       "      <td>30</td>\n",
       "      <td>10</td>\n",
       "      <td>1</td>\n",
       "      <td>male</td>\n",
       "      <td>1.033</td>\n",
       "      <td>1.568</td>\n",
       "      <td>0.528</td>\n",
       "      <td>1.309</td>\n",
       "      <td>1.837</td>\n",
       "      <td>1.837</td>\n",
       "      <td>0.783</td>\n",
       "      <td>1.107</td>\n",
       "      <td>0.920</td>\n",
       "      <td>1.778</td>\n",
       "    </tr>\n",
       "    <tr>\n",
       "      <th>1727</th>\n",
       "      <td>D._buzzatii</td>\n",
       "      <td>Wahruna</td>\n",
       "      <td>-25.20</td>\n",
       "      <td>151.17</td>\n",
       "      <td>1994</td>\n",
       "      <td>1994</td>\n",
       "      <td>30</td>\n",
       "      <td>10</td>\n",
       "      <td>2</td>\n",
       "      <td>female</td>\n",
       "      <td>1.138</td>\n",
       "      <td>1.719</td>\n",
       "      <td>0.558</td>\n",
       "      <td>1.442</td>\n",
       "      <td>1.999</td>\n",
       "      <td>1.999</td>\n",
       "      <td>0.867</td>\n",
       "      <td>1.223</td>\n",
       "      <td>0.992</td>\n",
       "      <td>1.757</td>\n",
       "    </tr>\n",
       "    <tr>\n",
       "      <th>1728</th>\n",
       "      <td>D._buzzatii</td>\n",
       "      <td>Wahruna</td>\n",
       "      <td>-25.20</td>\n",
       "      <td>151.17</td>\n",
       "      <td>1994</td>\n",
       "      <td>1994</td>\n",
       "      <td>30</td>\n",
       "      <td>10</td>\n",
       "      <td>2</td>\n",
       "      <td>male</td>\n",
       "      <td>1.019</td>\n",
       "      <td>1.515</td>\n",
       "      <td>0.501</td>\n",
       "      <td>1.305</td>\n",
       "      <td>1.807</td>\n",
       "      <td>1.805</td>\n",
       "      <td>0.821</td>\n",
       "      <td>1.135</td>\n",
       "      <td>0.911</td>\n",
       "      <td>1.771</td>\n",
       "    </tr>\n",
       "    <tr>\n",
       "      <th>1729</th>\n",
       "      <td>D._buzzatii</td>\n",
       "      <td>Wahruna</td>\n",
       "      <td>-25.20</td>\n",
       "      <td>151.17</td>\n",
       "      <td>1994</td>\n",
       "      <td>1994</td>\n",
       "      <td>30</td>\n",
       "      <td>10</td>\n",
       "      <td>3</td>\n",
       "      <td>female</td>\n",
       "      <td>1.118</td>\n",
       "      <td>1.620</td>\n",
       "      <td>0.544</td>\n",
       "      <td>1.404</td>\n",
       "      <td>1.947</td>\n",
       "      <td>1.947</td>\n",
       "      <td>0.863</td>\n",
       "      <td>1.187</td>\n",
       "      <td>0.976</td>\n",
       "      <td>1.741</td>\n",
       "    </tr>\n",
       "    <tr>\n",
       "      <th>1730</th>\n",
       "      <td>D._buzzatii</td>\n",
       "      <td>Wahruna</td>\n",
       "      <td>-25.20</td>\n",
       "      <td>151.17</td>\n",
       "      <td>1994</td>\n",
       "      <td>1994</td>\n",
       "      <td>30</td>\n",
       "      <td>10</td>\n",
       "      <td>3</td>\n",
       "      <td>male</td>\n",
       "      <td>1.060</td>\n",
       "      <td>1.623</td>\n",
       "      <td>0.553</td>\n",
       "      <td>1.349</td>\n",
       "      <td>1.902</td>\n",
       "      <td>1.902</td>\n",
       "      <td>0.845</td>\n",
       "      <td>1.163</td>\n",
       "      <td>0.978</td>\n",
       "      <td>1.794</td>\n",
       "    </tr>\n",
       "  </tbody>\n",
       "</table>\n",
       "<p>1731 rows × 20 columns</p>\n",
       "</div>"
      ],
      "text/plain": [
       "          Species Population  Latitude  Longitude  Year_start  Year_end  \\\n",
       "0     D._aldrichi    Binjour    -25.52     151.45        1994      1994   \n",
       "1     D._aldrichi    Binjour    -25.52     151.45        1994      1994   \n",
       "2     D._aldrichi    Binjour    -25.52     151.45        1994      1994   \n",
       "3     D._aldrichi    Binjour    -25.52     151.45        1994      1994   \n",
       "4     D._aldrichi    Binjour    -25.52     151.45        1994      1994   \n",
       "...           ...        ...       ...        ...         ...       ...   \n",
       "1726  D._buzzatii    Wahruna    -25.20     151.17        1994      1994   \n",
       "1727  D._buzzatii    Wahruna    -25.20     151.17        1994      1994   \n",
       "1728  D._buzzatii    Wahruna    -25.20     151.17        1994      1994   \n",
       "1729  D._buzzatii    Wahruna    -25.20     151.17        1994      1994   \n",
       "1730  D._buzzatii    Wahruna    -25.20     151.17        1994      1994   \n",
       "\n",
       "      Temperature  Vial  Replicate     Sex Thorax_length     l2    l3p    l3d  \\\n",
       "0              20     1          1  female         1.238  2.017  0.659  1.711   \n",
       "1              20     1          1    male         1.113  1.811  0.609  1.539   \n",
       "2              20     1          2  female         1.215  1.985  0.648  1.671   \n",
       "3              20     1          2    male         1.123  1.713  0.596  1.495   \n",
       "4              20     2          1  female         1.218  1.938  0.641  1.658   \n",
       "...           ...   ...        ...     ...           ...    ...    ...    ...   \n",
       "1726           30    10          1    male         1.033  1.568  0.528  1.309   \n",
       "1727           30    10          2  female         1.138  1.719  0.558  1.442   \n",
       "1728           30    10          2    male         1.019  1.515  0.501  1.305   \n",
       "1729           30    10          3  female         1.118  1.620  0.544  1.404   \n",
       "1730           30    10          3    male         1.060  1.623  0.553  1.349   \n",
       "\n",
       "        lpd     l3     w1     w2     w3 wing_loading  \n",
       "0     2.370  2.370  1.032  1.441  1.192        1.914  \n",
       "1     2.148  2.146  0.938  1.299  1.066        1.928  \n",
       "2     2.319  2.319  0.991  1.396  1.142        1.908  \n",
       "3     2.091  2.088  0.958  1.286  1.062        1.860  \n",
       "4     2.298  2.298  1.010  1.418  1.148        1.886  \n",
       "...     ...    ...    ...    ...    ...          ...  \n",
       "1726  1.837  1.837  0.783  1.107  0.920        1.778  \n",
       "1727  1.999  1.999  0.867  1.223  0.992        1.757  \n",
       "1728  1.807  1.805  0.821  1.135  0.911        1.771  \n",
       "1729  1.947  1.947  0.863  1.187  0.976        1.741  \n",
       "1730  1.902  1.902  0.845  1.163  0.978        1.794  \n",
       "\n",
       "[1731 rows x 20 columns]"
      ]
     },
     "execution_count": 2,
     "metadata": {},
     "output_type": "execute_result"
    }
   ],
   "source": [
    "df = pd.read_csv(\"../data/83_Loeschcke_et_al_2000_Thorax_&_wing_traits_lab pops.csv\")\n",
    "df"
   ]
  },
  {
   "cell_type": "code",
   "execution_count": 3,
   "id": "695080be-87fb-4d8f-8605-9927c9cf2cea",
   "metadata": {},
   "outputs": [
    {
     "data": {
      "text/plain": [
       "Index(['Species', 'Population', 'Latitude', 'Longitude', 'Year_start',\n",
       "       'Year_end', 'Temperature', 'Vial', 'Replicate', 'Sex', 'Thorax_length',\n",
       "       'l2', 'l3p', 'l3d', 'lpd', 'l3', 'w1', 'w2', 'w3', 'wing_loading'],\n",
       "      dtype='object')"
      ]
     },
     "execution_count": 3,
     "metadata": {},
     "output_type": "execute_result"
    }
   ],
   "source": [
    "df.columns"
   ]
  },
  {
   "cell_type": "code",
   "execution_count": 4,
   "id": "be7b686c-493c-4354-912e-93795df3591b",
   "metadata": {},
   "outputs": [
    {
     "data": {
      "text/plain": [
       "Species\n",
       "D._aldrichi    840\n",
       "D._buzzatii    891\n",
       "Name: count, dtype: int64"
      ]
     },
     "execution_count": 4,
     "metadata": {},
     "output_type": "execute_result"
    }
   ],
   "source": [
    "df[\"Species\"].value_counts(sort=False)"
   ]
  },
  {
   "cell_type": "code",
   "execution_count": 5,
   "id": "00140085-c696-4676-a806-64315d07c113",
   "metadata": {},
   "outputs": [
    {
     "data": {
      "text/plain": [
       "Population\n",
       "Binjour          341\n",
       "Gogango_Creek    354\n",
       "Grandchester     349\n",
       "Oxford_Downs     341\n",
       "Wahruna          346\n",
       "Name: count, dtype: int64"
      ]
     },
     "execution_count": 5,
     "metadata": {},
     "output_type": "execute_result"
    }
   ],
   "source": [
    "df[\"Population\"].value_counts(sort=False)"
   ]
  },
  {
   "cell_type": "code",
   "execution_count": 6,
   "id": "c33e1695-2694-41b8-baea-7a693e648dcb",
   "metadata": {},
   "outputs": [
    {
     "data": {
      "text/plain": [
       "(array([1994]), array([1994]))"
      ]
     },
     "execution_count": 6,
     "metadata": {},
     "output_type": "execute_result"
    }
   ],
   "source": [
    "df[\"Year_start\"].unique(), df[\"Year_end\"].unique()"
   ]
  },
  {
   "cell_type": "code",
   "execution_count": 7,
   "id": "39625ca9-c64f-4e43-b474-95ec88b356e4",
   "metadata": {},
   "outputs": [
    {
     "data": {
      "text/plain": [
       "Temperature\n",
       "20    578\n",
       "25    581\n",
       "30    572\n",
       "Name: count, dtype: int64"
      ]
     },
     "execution_count": 7,
     "metadata": {},
     "output_type": "execute_result"
    }
   ],
   "source": [
    "df[\"Temperature\"].value_counts(sort=False)"
   ]
  },
  {
   "cell_type": "code",
   "execution_count": 8,
   "id": "422cbcd2-607b-4e02-812b-3ab03f3a8393",
   "metadata": {},
   "outputs": [
    {
     "data": {
      "text/plain": [
       "Vial\n",
       "1     170\n",
       "2     172\n",
       "3     169\n",
       "4     172\n",
       "5     178\n",
       "6     176\n",
       "7     173\n",
       "8     177\n",
       "9     172\n",
       "10    172\n",
       "Name: count, dtype: int64"
      ]
     },
     "execution_count": 8,
     "metadata": {},
     "output_type": "execute_result"
    }
   ],
   "source": [
    "df[\"Vial\"].value_counts(sort=False)"
   ]
  },
  {
   "cell_type": "code",
   "execution_count": 9,
   "id": "20510a54-489c-4406-ac1d-f2d7743ffcff",
   "metadata": {},
   "outputs": [
    {
     "data": {
      "text/plain": [
       "Replicate\n",
       "1    600\n",
       "2    586\n",
       "3    545\n",
       "Name: count, dtype: int64"
      ]
     },
     "execution_count": 9,
     "metadata": {},
     "output_type": "execute_result"
    }
   ],
   "source": [
    "df[\"Replicate\"].value_counts(sort=False)"
   ]
  },
  {
   "cell_type": "code",
   "execution_count": 10,
   "id": "61b590a4-29e4-4c9b-9c1f-1663c7c97123",
   "metadata": {},
   "outputs": [
    {
     "data": {
      "text/plain": [
       "Sex\n",
       "female    859\n",
       "male      872\n",
       "Name: count, dtype: int64"
      ]
     },
     "execution_count": 10,
     "metadata": {},
     "output_type": "execute_result"
    }
   ],
   "source": [
    "df[\"Sex\"].value_counts(sort=False)"
   ]
  },
  {
   "cell_type": "code",
   "execution_count": 11,
   "id": "414a8e22-65ed-4785-8c67-53a0c3c50129",
   "metadata": {},
   "outputs": [
    {
     "data": {
      "text/html": [
       "<div>\n",
       "<style scoped>\n",
       "    .dataframe tbody tr th:only-of-type {\n",
       "        vertical-align: middle;\n",
       "    }\n",
       "\n",
       "    .dataframe tbody tr th {\n",
       "        vertical-align: top;\n",
       "    }\n",
       "\n",
       "    .dataframe thead th {\n",
       "        text-align: right;\n",
       "    }\n",
       "</style>\n",
       "<table border=\"1\" class=\"dataframe\">\n",
       "  <thead>\n",
       "    <tr style=\"text-align: right;\">\n",
       "      <th></th>\n",
       "      <th>l2</th>\n",
       "      <th>l3p</th>\n",
       "      <th>l3d</th>\n",
       "      <th>lpd</th>\n",
       "      <th>l3</th>\n",
       "      <th>w1</th>\n",
       "      <th>w2</th>\n",
       "      <th>w3</th>\n",
       "    </tr>\n",
       "  </thead>\n",
       "  <tbody>\n",
       "    <tr>\n",
       "      <th>count</th>\n",
       "      <td>1731.000000</td>\n",
       "      <td>1731.000000</td>\n",
       "      <td>1731.000000</td>\n",
       "      <td>1731.000000</td>\n",
       "      <td>1731.000000</td>\n",
       "      <td>1731.000000</td>\n",
       "      <td>1731.000000</td>\n",
       "      <td>1731.000000</td>\n",
       "    </tr>\n",
       "    <tr>\n",
       "      <th>mean</th>\n",
       "      <td>1.723935</td>\n",
       "      <td>0.585854</td>\n",
       "      <td>1.455826</td>\n",
       "      <td>2.041169</td>\n",
       "      <td>2.040291</td>\n",
       "      <td>0.914038</td>\n",
       "      <td>1.252196</td>\n",
       "      <td>1.038279</td>\n",
       "    </tr>\n",
       "    <tr>\n",
       "      <th>std</th>\n",
       "      <td>0.165536</td>\n",
       "      <td>0.053610</td>\n",
       "      <td>0.128044</td>\n",
       "      <td>0.178219</td>\n",
       "      <td>0.178354</td>\n",
       "      <td>0.074163</td>\n",
       "      <td>0.106781</td>\n",
       "      <td>0.089665</td>\n",
       "    </tr>\n",
       "    <tr>\n",
       "      <th>min</th>\n",
       "      <td>0.000000</td>\n",
       "      <td>0.000000</td>\n",
       "      <td>0.000000</td>\n",
       "      <td>0.000000</td>\n",
       "      <td>0.000000</td>\n",
       "      <td>0.000000</td>\n",
       "      <td>0.000000</td>\n",
       "      <td>0.000000</td>\n",
       "    </tr>\n",
       "    <tr>\n",
       "      <th>25%</th>\n",
       "      <td>1.607000</td>\n",
       "      <td>0.547000</td>\n",
       "      <td>1.370000</td>\n",
       "      <td>1.920500</td>\n",
       "      <td>1.919000</td>\n",
       "      <td>0.864000</td>\n",
       "      <td>1.176000</td>\n",
       "      <td>0.976000</td>\n",
       "    </tr>\n",
       "    <tr>\n",
       "      <th>50%</th>\n",
       "      <td>1.722000</td>\n",
       "      <td>0.585000</td>\n",
       "      <td>1.457000</td>\n",
       "      <td>2.040000</td>\n",
       "      <td>2.039000</td>\n",
       "      <td>0.912000</td>\n",
       "      <td>1.251000</td>\n",
       "      <td>1.037000</td>\n",
       "    </tr>\n",
       "    <tr>\n",
       "      <th>75%</th>\n",
       "      <td>1.840000</td>\n",
       "      <td>0.624000</td>\n",
       "      <td>1.540000</td>\n",
       "      <td>2.159500</td>\n",
       "      <td>2.158500</td>\n",
       "      <td>0.963000</td>\n",
       "      <td>1.325500</td>\n",
       "      <td>1.100000</td>\n",
       "    </tr>\n",
       "    <tr>\n",
       "      <th>max</th>\n",
       "      <td>2.095000</td>\n",
       "      <td>0.742000</td>\n",
       "      <td>1.742000</td>\n",
       "      <td>2.419000</td>\n",
       "      <td>2.418000</td>\n",
       "      <td>1.084000</td>\n",
       "      <td>1.514000</td>\n",
       "      <td>1.282000</td>\n",
       "    </tr>\n",
       "  </tbody>\n",
       "</table>\n",
       "</div>"
      ],
      "text/plain": [
       "                l2          l3p          l3d          lpd           l3  \\\n",
       "count  1731.000000  1731.000000  1731.000000  1731.000000  1731.000000   \n",
       "mean      1.723935     0.585854     1.455826     2.041169     2.040291   \n",
       "std       0.165536     0.053610     0.128044     0.178219     0.178354   \n",
       "min       0.000000     0.000000     0.000000     0.000000     0.000000   \n",
       "25%       1.607000     0.547000     1.370000     1.920500     1.919000   \n",
       "50%       1.722000     0.585000     1.457000     2.040000     2.039000   \n",
       "75%       1.840000     0.624000     1.540000     2.159500     2.158500   \n",
       "max       2.095000     0.742000     1.742000     2.419000     2.418000   \n",
       "\n",
       "                w1           w2           w3  \n",
       "count  1731.000000  1731.000000  1731.000000  \n",
       "mean      0.914038     1.252196     1.038279  \n",
       "std       0.074163     0.106781     0.089665  \n",
       "min       0.000000     0.000000     0.000000  \n",
       "25%       0.864000     1.176000     0.976000  \n",
       "50%       0.912000     1.251000     1.037000  \n",
       "75%       0.963000     1.325500     1.100000  \n",
       "max       1.084000     1.514000     1.282000  "
      ]
     },
     "execution_count": 11,
     "metadata": {},
     "output_type": "execute_result"
    }
   ],
   "source": [
    "df[[\"Thorax_length\", \"l2\", \"l3p\", \"l3d\", \"lpd\", \"l3\", \"w1\", \"w2\", \"w3\", \"wing_loading\"]].describe()"
   ]
  },
  {
   "cell_type": "markdown",
   "id": "7553c56b-4d56-4f4b-9dee-8e66dee383af",
   "metadata": {},
   "source": [
    "# Data Cleaning and Preparation\n",
    "\n",
    "Now that we're familiar with the columns, we'll remove any that may be unnecessary for species classification."
   ]
  },
  {
   "cell_type": "code",
   "execution_count": 12,
   "id": "45ed8505-14fa-4f21-a4d1-cbdf3d40c46e",
   "metadata": {},
   "outputs": [
    {
     "data": {
      "text/plain": [
       "Index(['Species', 'Population', 'Latitude', 'Longitude', 'Year_start',\n",
       "       'Year_end', 'Temperature', 'Vial', 'Replicate', 'Sex', 'Thorax_length',\n",
       "       'l2', 'l3p', 'l3d', 'lpd', 'l3', 'w1', 'w2', 'w3', 'wing_loading'],\n",
       "      dtype='object')"
      ]
     },
     "execution_count": 12,
     "metadata": {},
     "output_type": "execute_result"
    }
   ],
   "source": [
    "df.columns"
   ]
  },
  {
   "cell_type": "markdown",
   "id": "3b45dd24-2b34-40d3-ae1a-e6db5cdba249",
   "metadata": {},
   "source": [
    "- There is only one `Year_start` and `Year_end` value so we can drop those columns\n",
    "- Since we are already using population as a predictor, we'll drop the latitude and longitude columns since this is equivalent to the population\n",
    "- The main predictors are thorax length, wing loading, l2, l3p, ..., w3, sex, species\n",
    "- Predictors that *may* be useful are vial, replicate, and temperature. These relate to the experimental setup of the study. We can assess if these are important for classification a bit later, e.g. with feature selection"
   ]
  },
  {
   "cell_type": "code",
   "execution_count": 13,
   "id": "29ecd83b-232f-49cb-8d8c-4322b98605ad",
   "metadata": {},
   "outputs": [
    {
     "data": {
      "text/plain": [
       "(1731, 16)"
      ]
     },
     "execution_count": 13,
     "metadata": {},
     "output_type": "execute_result"
    }
   ],
   "source": [
    "df.drop(columns=[\"Latitude\", \"Longitude\", \"Year_start\", \"Year_end\"], inplace=True)\n",
    "df.shape"
   ]
  },
  {
   "cell_type": "markdown",
   "id": "222bdba6-a554-4a57-affb-5f7d932c7ca0",
   "metadata": {},
   "source": [
    "Next we can inspect the dtypes of each column to see if they're as expected."
   ]
  },
  {
   "cell_type": "code",
   "execution_count": 14,
   "id": "261dff08-515f-42dd-a81f-949f17a33a65",
   "metadata": {},
   "outputs": [
    {
     "data": {
      "text/plain": [
       "Species           object\n",
       "Population        object\n",
       "Temperature        int64\n",
       "Vial               int64\n",
       "Replicate          int64\n",
       "Sex               object\n",
       "Thorax_length     object\n",
       "l2               float64\n",
       "l3p              float64\n",
       "l3d              float64\n",
       "lpd              float64\n",
       "l3               float64\n",
       "w1               float64\n",
       "w2               float64\n",
       "w3               float64\n",
       "wing_loading      object\n",
       "dtype: object"
      ]
     },
     "execution_count": 14,
     "metadata": {},
     "output_type": "execute_result"
    }
   ],
   "source": [
    "df.dtypes"
   ]
  },
  {
   "cell_type": "markdown",
   "id": "479d9f61-ddec-4aad-9b3a-2fab77c1a482",
   "metadata": {},
   "source": [
    "- `Thorax_length` and `wing_loading` should not be `object`s - this could be due to some invalid data rows - we could remove these or replace their values by e.g. the mean value. It turns out there is only one row that has an invalid thorax length and wing loading ratio, so we will just remove that one.\n",
    "- `Sex`, `Species`, and `Population` are categorical, we will want to make these numeric so that our models can use them.\n",
    "- In addition to the categorical variables above, replicate and vial are actually also categorical - the numbering given to these variables is just an identifier and is arbitrary. We should avoid e.g. mapping these categories to integers arbitrarily, as this implies an ordinal relationship, which is not the case (e.g. if we encoded \"Male\" to be 0 and \"Female\" to be 1, this could be interpreted by models as \"Female\" > \"Male\", which doesn't make sense, or if we used vial numbers as-is the model may compute measures like the \"average vial number\" which also doesn't make sense). One thing we can do is use one-hot encoding to create binary indicators for each category and avoid inferring incorrect ordinal relationships from categorical variables."
   ]
  },
  {
   "cell_type": "code",
   "execution_count": 15,
   "id": "035a4f99-85c9-46df-80f5-d9fad67b28ec",
   "metadata": {},
   "outputs": [],
   "source": [
    "for feature in (\"Sex\", \"Population\", \"Replicate\", \"Vial\"):\n",
    "    encoded = pd.get_dummies(df[feature], prefix=feature)\n",
    "    df = pd.concat([df, encoded], axis=1)"
   ]
  },
  {
   "cell_type": "code",
   "execution_count": 16,
   "id": "aaea7103-468a-4108-8ab8-73d681bec8cb",
   "metadata": {},
   "outputs": [
    {
     "name": "stdout",
     "output_type": "stream",
     "text": [
      "invalid thorax_length values: 1\n",
      "invalid wing_loading values : 1\n"
     ]
    }
   ],
   "source": [
    "print(\"invalid thorax_length values:\", df[\"Thorax_length\"].apply(pd.to_numeric, errors=\"coerce\").isna().sum())\n",
    "print(\"invalid wing_loading values :\", df[\"wing_loading\"].apply(pd.to_numeric, errors=\"coerce\").isna().sum())"
   ]
  },
  {
   "cell_type": "code",
   "execution_count": 17,
   "id": "bb665889-9551-491e-82ed-0cf7556d2b0b",
   "metadata": {},
   "outputs": [
    {
     "data": {
      "text/plain": [
       "(1730, 36)"
      ]
     },
     "execution_count": 17,
     "metadata": {},
     "output_type": "execute_result"
    }
   ],
   "source": [
    "df[\"Thorax_length\"] = pd.to_numeric(df[\"Thorax_length\"], errors=\"coerce\")\n",
    "df[\"wing_loading\"] = pd.to_numeric(df[\"wing_loading\"], errors=\"coerce\")\n",
    "mask = df[\"Thorax_length\"].isna() | df[\"wing_loading\"].isna()\n",
    "df = df[~mask]\n",
    "df.shape"
   ]
  },
  {
   "cell_type": "markdown",
   "id": "a488192b-ce6a-44ab-a0f0-94db53a60cf9",
   "metadata": {},
   "source": [
    "We now have everything cleaned up properly. The original `Species`, `Sex`, and `Thorax_length` columns have been kept around as we'll want to convert the numeric values back to their corresponding categories to interpret our results later."
   ]
  },
  {
   "cell_type": "code",
   "execution_count": 18,
   "id": "654becf7-50b6-4561-a07b-7545c5345000",
   "metadata": {},
   "outputs": [
    {
     "data": {
      "text/plain": [
       "Species                      object\n",
       "Population                   object\n",
       "Temperature                   int64\n",
       "Vial                          int64\n",
       "Replicate                     int64\n",
       "Sex                          object\n",
       "Thorax_length               float64\n",
       "l2                          float64\n",
       "l3p                         float64\n",
       "l3d                         float64\n",
       "lpd                         float64\n",
       "l3                          float64\n",
       "w1                          float64\n",
       "w2                          float64\n",
       "w3                          float64\n",
       "wing_loading                float64\n",
       "Sex_female                     bool\n",
       "Sex_male                       bool\n",
       "Population_Binjour             bool\n",
       "Population_Gogango_Creek       bool\n",
       "Population_Grandchester        bool\n",
       "Population_Oxford_Downs        bool\n",
       "Population_Wahruna             bool\n",
       "Replicate_1                    bool\n",
       "Replicate_2                    bool\n",
       "Replicate_3                    bool\n",
       "Vial_1                         bool\n",
       "Vial_2                         bool\n",
       "Vial_3                         bool\n",
       "Vial_4                         bool\n",
       "Vial_5                         bool\n",
       "Vial_6                         bool\n",
       "Vial_7                         bool\n",
       "Vial_8                         bool\n",
       "Vial_9                         bool\n",
       "Vial_10                        bool\n",
       "dtype: object"
      ]
     },
     "execution_count": 18,
     "metadata": {},
     "output_type": "execute_result"
    }
   ],
   "source": [
    "df.dtypes"
   ]
  },
  {
   "cell_type": "markdown",
   "id": "89baa273-6ee7-4314-a191-dee8b73ec1a9",
   "metadata": {},
   "source": [
    "Now we will split the data into a train split (70%) and test split (30%), and then save the cleaned and split data into two new csvs. We do this so that there is no chance of accidentally using the test data during our analysis."
   ]
  },
  {
   "cell_type": "code",
   "execution_count": 19,
   "id": "82d71632-1650-49bf-84b2-24e27dfd6924",
   "metadata": {},
   "outputs": [
    {
     "name": "stdout",
     "output_type": "stream",
     "text": [
      "(1211, 36) (519, 36)\n"
     ]
    }
   ],
   "source": [
    "from sklearn.model_selection import train_test_split\n",
    "\n",
    "train, test = train_test_split(df, train_size=0.7, random_state=42)\n",
    "print(train.shape, test.shape)\n"
   ]
  },
  {
   "cell_type": "code",
   "execution_count": 20,
   "id": "9fdc4439-9717-41b4-8505-05d74169a976",
   "metadata": {},
   "outputs": [],
   "source": [
    "train.to_csv(\"../data/thorax_and_wing_train.csv\", index=False)\n",
    "test.to_csv(\"../data/thorax_and_wing_test.csv\", index=False)"
   ]
  },
  {
   "cell_type": "code",
   "execution_count": null,
   "id": "f2162d7d-dc7e-494c-8f7b-e99affe4e3fe",
   "metadata": {},
   "outputs": [],
   "source": []
  }
 ],
 "metadata": {
  "kernelspec": {
   "display_name": "Python [conda env:comp4702] *",
   "language": "python",
   "name": "conda-env-comp4702-py"
  },
  "language_info": {
   "codemirror_mode": {
    "name": "ipython",
    "version": 3
   },
   "file_extension": ".py",
   "mimetype": "text/x-python",
   "name": "python",
   "nbconvert_exporter": "python",
   "pygments_lexer": "ipython3",
   "version": "3.10.13"
  }
 },
 "nbformat": 4,
 "nbformat_minor": 5
}
